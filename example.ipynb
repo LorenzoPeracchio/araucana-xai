{
  "nbformat": 4,
  "nbformat_minor": 0,
  "metadata": {
    "colab": {
      "name": "example.ipynb",
      "provenance": [],
      "collapsed_sections": []
    },
    "kernelspec": {
      "name": "python3",
      "display_name": "Python 3"
    },
    "language_info": {
      "name": "python"
    }
  },
  "cells": [
    {
      "cell_type": "markdown",
      "source": [
        "# Araucana XAI Package Example"
      ],
      "metadata": {
        "id": "CRDiUKtjx_jw"
      }
    },
    {
      "cell_type": "markdown",
      "source": [
        "Install gower, then install the latest version of araucanaxai"
      ],
      "metadata": {
        "id": "QeMTbK7Rp2yo"
      }
    },
    {
      "cell_type": "code",
      "source": [
        "!pip install gower\n",
        "!pip install araucanaxai"
      ],
      "metadata": {
        "id": "AN3svRNGoiXI"
      },
      "execution_count": null,
      "outputs": []
    },
    {
      "cell_type": "markdown",
      "source": [
        "Import modules"
      ],
      "metadata": {
        "id": "YIZPbQmSqPEx"
      }
    },
    {
      "cell_type": "code",
      "execution_count": 2,
      "metadata": {
        "id": "QHeMz0bCoW5P"
      },
      "outputs": [],
      "source": [
        "import araucanaxai\n",
        "from sklearn.linear_model import LogisticRegression\n",
        "from sklearn import tree\n",
        "from sklearn.metrics import *\n",
        "import matplotlib.pyplot as plt"
      ]
    },
    {
      "cell_type": "markdown",
      "source": [
        "Load the breast cancer toy dataset. If you want your dataset to have both continous and categorical features, set `cat_data = True`."
      ],
      "metadata": {
        "id": "wNl9nQLRqSxY"
      }
    },
    {
      "cell_type": "code",
      "source": [
        "cat_data = False\n",
        "data = araucanaxai.load_breast_cancer(train_split=.75, cat=cat_data)\n",
        "is_cat = None\n",
        "if cat_data:\n",
        "    # specify which features are categorical\n",
        "    cat = data[\"feature_names\"][0:5]\n",
        "    is_cat = [x in cat for x in data[\"feature_names\"]]"
      ],
      "metadata": {
        "id": "Owoz1xfsqEKg"
      },
      "execution_count": 3,
      "outputs": []
    },
    {
      "cell_type": "markdown",
      "source": [
        "Train your favourite classifier. Here we use a logistic regression with l1 regularization."
      ],
      "metadata": {
        "id": "_PJfY2ULqiW_"
      }
    },
    {
      "cell_type": "code",
      "source": [
        "\n",
        "# train logistic regression classifier\n",
        "classifier = LogisticRegression(random_state=42, solver='liblinear', penalty='l1', max_iter=500)\n",
        "classifier.fit(data[\"X_train\"], data[\"y_train\"])\n",
        "y_test_pred = classifier.predict(data[\"X_test\"])\n",
        "\n",
        "print('precision: ' + str(precision_score(data[\"y_test\"], y_test_pred)) + ', recall: ' + str(\n",
        "    recall_score(data[\"y_test\"], y_test_pred)))\n"
      ],
      "metadata": {
        "id": "TtKSynbwqFu_"
      },
      "execution_count": null,
      "outputs": []
    },
    {
      "cell_type": "markdown",
      "source": [
        "Declare the local instance you want to explain. Here we want to explain the prediction for the 17th example of our dataset.\n",
        "\n"
      ],
      "metadata": {
        "id": "OSkjSkxfrAt4"
      }
    },
    {
      "cell_type": "code",
      "source": [
        "index = 17\n",
        "instance = data[\"X_test\"][index, :].reshape(1, data[\"X_test\"].shape[1])\n",
        "instance_pred_y = y_test_pred[index]\n"
      ],
      "metadata": {
        "id": "wexH8yt8qHgT"
      },
      "execution_count": 5,
      "outputs": []
    },
    {
      "cell_type": "markdown",
      "source": [
        "Build **Araucana XAI** tree to explain the classification of target instance."
      ],
      "metadata": {
        "id": "N-KjKAB0q1KX"
      }
    },
    {
      "cell_type": "code",
      "source": [
        "xai_tree = araucanaxai.run(x_target=instance, y_pred_target=instance_pred_y,\n",
        "                           x_train=data[\"X_train\"], feature_names=data[\"feature_names\"], cat_list=is_cat,\n",
        "                           neighbourhood_size=100, oversampling="smote",\n",
        "                           max_depth=None, min_samples_leaf=1,\n",
        "                           predict_fun=classifier.predict)\n",
        "\n",
        "# plot the tree\n",
        "fig, ax = plt.subplots(figsize=(10, 10))\n",
        "tree.plot_tree(xai_tree['tree'], feature_names=data[\"feature_names\"], filled=True, class_names=data[\"target_names\"])\n",
        "plt.tight_layout()\n",
        "plt.show()\n",
        "# or just save it\n",
        "#plt.savefig('tree.svg', format='svg', bbox_inches=\"tight\")"
      ],
      "metadata": {
        "id": "ry66uUW2qMVv"
      },
      "execution_count": null,
      "outputs": []
    }
  ]
}
