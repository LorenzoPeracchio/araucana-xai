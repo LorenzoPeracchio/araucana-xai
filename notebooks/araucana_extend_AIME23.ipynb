{
  "nbformat": 4,
  "nbformat_minor": 0,
  "metadata": {
    "colab": {
      "provenance": []
    },
    "kernelspec": {
      "name": "python3",
      "display_name": "Python 3"
    },
    "language_info": {
      "name": "python"
    }
  },
  "cells": [
    {
      "cell_type": "markdown",
      "source": [
        "# AIME 2023 AraucanaXAI Workshop\n",
        "\n",
        "<h4>Extend or modify the Araucanaxai package</h4>"
      ],
      "metadata": {
        "id": "xybbvPNPREnr"
      }
    },
    {
      "cell_type": "markdown",
      "source": [
        "### _Step 1._ Git clone the AraucanaXAI repository"
      ],
      "metadata": {
        "id": "dMQVwAqWxPa1"
      }
    },
    {
      "cell_type": "code",
      "execution_count": null,
      "metadata": {
        "colab": {
          "base_uri": "https://localhost:8080/"
        },
        "id": "1QGHsdx8trPR",
        "outputId": "0eb46e9f-3c17-4586-ec84-945d92ea4e36"
      },
      "outputs": [
        {
          "output_type": "stream",
          "name": "stdout",
          "text": [
            "Cloning into 'araucana-xai'...\n",
            "remote: Enumerating objects: 398, done.\u001b[K\n",
            "remote: Counting objects: 100% (91/91), done.\u001b[K\n",
            "remote: Compressing objects: 100% (60/60), done.\u001b[K\n",
            "remote: Total 398 (delta 50), reused 48 (delta 29), pack-reused 307\u001b[K\n",
            "Receiving objects: 100% (398/398), 380.87 KiB | 6.35 MiB/s, done.\n",
            "Resolving deltas: 100% (178/178), done.\n"
          ]
        }
      ],
      "source": [
        "!git clone https://github.com/bmi-labmedinfo/araucana-xai.git\n",
        "!git checkout -b your-araucana-extension #change branch name"
      ]
    },
    {
      "cell_type": "markdown",
      "source": [
        "### _Step 2._ Edit AraucanaXAI source files (e.g. have a look in the src/ folder)"
      ],
      "metadata": {
        "id": "ThiL70szSOMX"
      }
    },
    {
      "cell_type": "markdown",
      "source": [
        "Extend/modify AraucanaXAI by editing its core files, located in /content/araucana-xai/araucanaxai/src/araucanaxai\n",
        "\n",
        "1.   use the `files` section from Colab left menu to navigate the file system to find reach the target `*.py` files\n",
        "\n",
        "2.   click on the `*.py` file to open the editor\n",
        "\n",
        "\n",
        "```\n",
        "[...]\n",
        "\n",
        "print(\"HELLO ARAUCANA!\")  <--- edit\n",
        "\n",
        "# 1) FIND NEIGHBOURS\n",
        "local_train = __find_neighbours(target=x_target,\n",
        "                                data=x_train,\n",
        "                                cat_list=cat_list\n",
        "\n",
        "[...]\n",
        "```\n",
        "\n",
        "\n",
        "3.   make your edits and save\n",
        "\n",
        "\n",
        "**Example**: print \"HELLO ARAUCANA!\" every time you run araucanaxai\n",
        "\n",
        "1.   open /content/araucana-xai/araucanaxai/src/araucanaxai/utils.py\n",
        "\n",
        "2.   search the `run` method and add `print(\"hello araucana!\")`\n",
        "\n",
        "3.   save"
      ],
      "metadata": {
        "id": "tbzsQ5eBxbRB"
      }
    },
    {
      "cell_type": "markdown",
      "source": [
        "### _Step 3._ Install (locally) your customized version of AraucanaXAI\n",
        "\n",
        "After changes have been made, install the extended package with the following line"
      ],
      "metadata": {
        "id": "rmmuD-fLQeTE"
      }
    },
    {
      "cell_type": "code",
      "source": [
        "!pip install /content/araucana-xai/araucanaxai"
      ],
      "metadata": {
        "id": "G8DhWWC2vzzZ"
      },
      "execution_count": null,
      "outputs": []
    },
    {
      "cell_type": "markdown",
      "source": [
        "### _Step 4._ Test it!\n",
        "\n",
        "Now, you're ready to test your changes writing your own code or calling the example.py"
      ],
      "metadata": {
        "id": "9Am5a1XDR0Oe"
      }
    },
    {
      "cell_type": "code",
      "source": [
        "!python example.py"
      ],
      "metadata": {
        "colab": {
          "base_uri": "https://localhost:8080/"
        },
        "id": "hUVwSZ5BxDYp",
        "outputId": "c84dcd2f-a2bc-4215-a6d3-6921a0fc91ac"
      },
      "execution_count": null,
      "outputs": [
        {
          "output_type": "stream",
          "name": "stdout",
          "text": [
            "precision: 0.99, recall: 0.9252336448598131\n",
            "HELLO ARAUCANA!\n",
            "/usr/local/lib/python3.10/dist-packages/sklearn/base.py:439: UserWarning: X does not have valid feature names, but DecisionTreeClassifier was fitted with feature names\n",
            "  warnings.warn(\n"
          ]
        }
      ]
    },
    {
      "cell_type": "markdown",
      "source": [
        "### _Step 5._ Pull Request\n",
        "__i.e. sending back the results of your work to us :)__\n",
        "\n",
        "NOTE: don't worry... we'll give you credit for every contribution we'll end up integrating in the main distribution"
      ],
      "metadata": {
        "id": "uTYXSSHIVhDt"
      }
    },
    {
      "cell_type": "code",
      "source": [
        "%cd /content/araucana-xai\n",
        "!git add .\n",
        "!git commit -m \"my changes\" #change commit message\n",
        "!git push origin your-araucana-extension #replace with actual branch name (e.g. it can be your surname or institution name or team name)"
      ],
      "metadata": {
        "id": "M-i2AuwAVlGK"
      },
      "execution_count": null,
      "outputs": []
    }
  ]
}